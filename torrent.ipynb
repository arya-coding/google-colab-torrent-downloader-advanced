{
  "cells": [
    {
      "cell_type": "markdown",
      "metadata": {
        "id": "Be3iKZ4FZ1LV"
      },
      "source": [
        "### Install dependencies"
      ]
    },
    {
      "cell_type": "code",
      "execution_count": null,
      "metadata": {
        "colab": {
          "base_uri": "https://localhost:8080/"
        },
        "id": "qEPL7qdkaAoG",
        "outputId": "abd18b19-5d9c-476d-9bec-c557bdf01929"
      },
      "outputs": [],
      "source": [
        "!python -m pip install --upgrade pip setuptools wheel && python -m pip install lbry-libtorrent wget torf && apt install python3-libtorrent"
      ]
    },
    {
      "cell_type": "markdown",
      "metadata": {
        "id": "6sfsiTXEaN8_"
      },
      "source": [
        "### Download torrent"
      ]
    },
    {
      "cell_type": "code",
      "execution_count": null,
      "metadata": {
        "colab": {
          "base_uri": "https://localhost:8080/"
        },
        "id": "KpXzNFTgaRPW",
        "outputId": "bdf245e6-f399-47b6-8b00-a3a01a54674d"
      },
      "outputs": [],
      "source": [
        "import libtorrent as lt\n",
        "import time\n",
        "import datetime\n",
        "import os\n",
        "import shutil\n",
        "from google.colab import files\n",
        "import wget\n",
        "import torf\n",
        "\n",
        "def parse_selection(selection):\n",
        "    if selection.startswith(\"-\"):\n",
        "        mode = \"exclude\"\n",
        "        selection = selection[1:]\n",
        "    else:\n",
        "        mode = \"include\"\n",
        "    ranges = (r.split(\"-\") for r in selection.split(\",\"))\n",
        "    numbers = []\n",
        "    for r in ranges:\n",
        "        if len(r) == 1:\n",
        "            numbers.append(int(r[0]))\n",
        "        else:\n",
        "            numbers.extend(range(int(r[0]), int(r[1]) + 1))\n",
        "    numbers = [x - 1 for x in numbers]\n",
        "    return mode, numbers\n",
        "\n",
        "# Initialize session\n",
        "ses = lt.session()\n",
        "ses.listen_on(6881, 6891)\n",
        "params = {\n",
        "    'save_path': '/content/Torrent/',\n",
        "    'storage_mode': lt.storage_mode_t(2),\n",
        "}\n",
        "ses.start_dht()\n",
        "\n",
        "# Input Torrent or Magnet link\n",
        "link = input(\"Input Torrent file link or Magnet link and Press Enter: \")\n",
        "\n",
        "# Handling .torrent files\n",
        "if link.endswith('.torrent'):\n",
        "    if os.path.exists('torrent.torrent'):\n",
        "        os.remove('torrent.torrent')\n",
        "    wget.download(link, 'torrent.torrent')\n",
        "    t = torf.Torrent.read('torrent.torrent')\n",
        "    link = str(t.magnet())\n",
        "\n",
        "# Add torrent\n",
        "handle = lt.add_magnet_uri(ses, link, params)\n",
        "handle.set_sequential_download(0)\n",
        "\n",
        "print(datetime.datetime.now())\n",
        "print('Downloading Metadata...')\n",
        "\n",
        "while not handle.has_metadata():\n",
        "    time.sleep(1)\n",
        "\n",
        "torrent_info = handle.get_torrent_info()\n",
        "print('Got Metadata, Starting Torrent Download...')\n",
        "print(\"Starting\", torrent_info.name())\n",
        "\n",
        "print(\"\\nSelect the files you want to download (you can use ranges and exclusions):\")\n",
        "for i, file in enumerate(torrent_info.files()):\n",
        "    print(f\"{i+1}. {file.path} ({file.size/1024/1024:.2f} MB)\")\n",
        "\n",
        "print(\"\\nExamples of how to select files:\")\n",
        "print(\"1. Enter '1-3' to select files 1 through 3.\")\n",
        "print(\"2. Enter '2,4,6' to select files 2, 4, and 6 specifically.\")\n",
        "print(\"3. Enter '-5' to exclude file 5 from downloading.\")\n",
        "print(\"4. Enter '1-3,7' to select files 1 through 3 and file 7.\")\n",
        "print(\"5. Enter '-2-4' to exclude files 2 through 4 from downloading.\")\n",
        "print(\"Enter 'done' when you are finished selecting.\\n\")\n",
        "\n",
        "all_files = set(range(torrent_info.num_files()))\n",
        "selected_files = set()\n",
        "excluded_files = set()\n",
        "\n",
        "while True:\n",
        "    selection = input(\"Enter your selection, or 'done': \").strip()\n",
        "    if selection.lower() == \"done\":\n",
        "        if not selected_files and not excluded_files:\n",
        "            selected_files = all_files\n",
        "        break\n",
        "    mode, numbers = parse_selection(selection)\n",
        "    if mode == \"exclude\":\n",
        "        excluded_files.update(numbers)\n",
        "    else:\n",
        "        if selected_files == all_files:\n",
        "            selected_files.clear()\n",
        "        selected_files.update(numbers)\n",
        "\n",
        "final_selection = (selected_files if not excluded_files else selected_files - excluded_files) or all_files\n",
        "\n",
        "for i in all_files:\n",
        "    priority = 1 if i in final_selection else 0\n",
        "    handle.file_priority(i, priority)\n",
        "\n",
        "# Adjust the download monitoring loop\n",
        "print(f\"\\nDownloading {len(final_selection)} files...\")\n",
        "begin = time.time()\n",
        "\n",
        "while True:\n",
        "    s = handle.status()\n",
        "    print(f'{s.progress * 100:.2f}% complete (down: {s.download_rate / 1000:.1f} kb/s up: {s.upload_rate / 1000:.1f} kB/s peers: {s.num_peers}) {[\"queued\", \"checking\", \"downloading metadata\", \"downloading\", \"finished\", \"seeding\", \"allocating\"][s.state]}')\n",
        "    \n",
        "    # Check if the download is effectively complete\n",
        "    if s.state == lt.torrent_status.seeding or (s.progress >= 1.0 and s.download_rate < 1000):\n",
        "        print(\"Download effectively complete.\")\n",
        "        break\n",
        "    time.sleep(5)\n",
        "\n",
        "end = time.time()\n",
        "print(f\"{torrent_info.name()} COMPLETE\")\n",
        "print(f\"Elapsed Time: {int((end - begin) // 60)} min : {int((end - begin) % 60)} sec\")\n",
        "print(datetime.datetime.now())\n",
        "\n",
        "\n",
        "# Compress the downloaded content for easy download\n",
        "downloaded_dir = '/content/Torrent/'  # Adjust if needed\n",
        "zip_file_name = '/content/torrent_download.zip'\n",
        "shutil.make_archive(zip_file_name.rsplit('.', 1)[0], 'zip', downloaded_dir)\n",
        "print(f\"Compressed downloaded files into {zip_file_name}\")\n",
        "\n",
        "# Trigger the download\n",
        "files.download(zip_file_name)\n"
      ]
    },
    {
      "cell_type": "markdown",
      "metadata": {
        "id": "6sfsiTXEaN8_"
      },
      "source": [
        "### Zip the files"
      ]
    },
    {
      "cell_type": "code",
      "execution_count": null,
      "metadata": {},
      "outputs": [],
      "source": [
        "print('Zipping started...')\n",
        "\n",
        "ziph = zipfile.ZipFile('Downloaded-Torrent.zip', 'w', zipfile.ZIP_DEFLATED)\n",
        "path = 'content/Torrent/'\n",
        "for root, dirs, files in os.walk(path):\n",
        "    for file in files:\n",
        "        ziph.write(os.path.join(root, file),\n",
        "                   os.path.relpath(os.path.join(root, file),\n",
        "                                   os.path.join(path, '..')))\n",
        "ziph.close()\n",
        "\n",
        "print('\\nALL DONE!')"
      ]
    }
  ],
  "metadata": {
    "colab": {
      "name": "torrent.ipynb",
      "provenance": []
    },
    "kernelspec": {
      "display_name": "Python 3",
      "name": "python3"
    },
    "language_info": {
      "name": "python"
    }
  },
  "nbformat": 4,
  "nbformat_minor": 0
}
